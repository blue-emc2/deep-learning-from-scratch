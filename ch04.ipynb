{
 "cells": [
  {
   "cell_type": "markdown",
   "metadata": {},
   "source": [
    "# 4章 ニューラルネットワークの学習"
   ]
  },
  {
   "cell_type": "markdown",
   "metadata": {},
   "source": [
    "## 損失関数\n",
    "### 二乗和誤差"
   ]
  },
  {
   "cell_type": "code",
   "execution_count": 9,
   "metadata": {
    "collapsed": false
   },
   "outputs": [
    {
     "data": {
      "text/plain": [
       "0.59750000000000003"
      ]
     },
     "execution_count": 9,
     "metadata": {},
     "output_type": "execute_result"
    }
   ],
   "source": [
    "import numpy as np\n",
    "\n",
    "# t: 教師データ\n",
    "# index 2を正解とする\n",
    "t = [0, 0, 1, 0, 0, 0, 0, 0, 0, 0]\n",
    "\n",
    "# y: ニューラルネットワークの出力\n",
    "# 例1.「2」の確率が最も高い場合(0.6)\n",
    "y = [0.1, 0.05, 0.6, 0.0, 0.05, 0.1, 0.0, 0.1, 0.0, 0.0]\n",
    "\n",
    "# 二乗和誤差\n",
    "def mean_squared_error(y, t):\n",
    "    return 0.5 * np.sum((y - t) ** 2)\n",
    "\n",
    "# np.arrayはsumに渡すために変換をしている\n",
    "mean_squared_error(np.array(y), np.array(t))\n",
    "# => 0.0975000...31\n",
    "\n",
    "# 例2.「7」の確率が最も高い場合(0.6)\n",
    "y = [0.1, 0.05, 0.1, 0.0, 0.05, 0.1, 0.0, 0.6, 0.0, 0.0]\n",
    "mean_squared_error(np.array(y), np.array(t))\n",
    "# => 0.59750...3\n",
    "\n",
    "# 2つの結果でわかることは、教師データとの誤差を表している\n",
    "# 例1の結果のほうが値が小さいので誤差が小さいことがわかる。\n"
   ]
  },
  {
   "cell_type": "markdown",
   "metadata": {},
   "source": [
    "### 交差エントロピー誤差"
   ]
  },
  {
   "cell_type": "code",
   "execution_count": 12,
   "metadata": {
    "collapsed": false
   },
   "outputs": [
    {
     "name": "stdout",
     "output_type": "stream",
     "text": [
      "0.510825457099\n",
      "2.30258409299\n"
     ]
    }
   ],
   "source": [
    "def cross_entropy_error(y, t):\n",
    "    delta = 1e-7\n",
    "    return -np.sum(t * np.log(y + delta))\n",
    "\n",
    "t = [0, 0, 1, 0, 0, 0, 0, 0, 0, 0]\n",
    "y = [0.1, 0.05, 0.6, 0.0, 0.05, 0.1, 0.0, 0.1, 0.0, 0.0]\n",
    "a = cross_entropy_error(np.array(y), np.array(t))\n",
    "print(a)\n",
    "# => 0.510825457099\n",
    "\n",
    "y = [0.1, 0.05, 0.1, 0.0, 0.05, 0.1, 0.0, 0.6, 0.0, 0.0]\n",
    "b = cross_entropy_error(np.array(y), np.array(t))\n",
    "print(b)\n",
    "# => 2.30258409299\n",
    "\n",
    "\n",
    "# こちらも1番目の結果の方が値が小さいので誤差が小さいと判断する"
   ]
  },
  {
   "cell_type": "code",
   "execution_count": 13,
   "metadata": {
    "collapsed": false
   },
   "outputs": [
    {
     "data": {
      "text/plain": [
       "array([36039, 52613, 32006, 37566, 14762, 16411, 45469, 19359, 10165, 25179])"
      ]
     },
     "execution_count": 13,
     "metadata": {},
     "output_type": "execute_result"
    }
   ],
   "source": [
    "np.random.choice(60000, 10)"
   ]
  },
  {
   "cell_type": "code",
   "execution_count": 30,
   "metadata": {
    "collapsed": false
   },
   "outputs": [
    {
     "name": "stdout",
     "output_type": "stream",
     "text": [
      "['', '/Users/sa/Library/Enthought/Canopy/edm/envs/User/lib/python35.zip', '/Users/sa/Library/Enthought/Canopy/edm/envs/User/lib/python3.5', '/Users/sa/Library/Enthought/Canopy/edm/envs/User/lib/python3.5/plat-darwin', '/Users/sa/Library/Enthought/Canopy/edm/envs/User/lib/python3.5/lib-dynload', '/Users/sa/Library/Enthought/Canopy/edm/envs/User/lib/python3.5/site-packages', '/Users/sa/Library/Enthought/Canopy/edm/envs/User/lib/python3.5/site-packages/IPython/extensions', '/Users/sa/.ipython', '/Users/sa/develop/deep-learning-from-scratch/oreilly', '/Users/sa/develop/deep-learning-from-scratch/oreilly', '/Users/sa/develop/deep-learning-from-scratch/oreilly', '/Users/sa/develop/deep-learning-from-scratch/oreilly/dataset', '/Users/sa/develop/deep-learning-from-scratch/oreilly', '/Users/sa/develop/deep-learning-from-scratch', '..', '/Users/sa/develop/deep-learning-from-scratch', '/Users/sa/develop/deep-learning-from-scratch', '/Users/sa/develop/deep-learning-from-scratch/oreilly', '/Users/sa/develop/deep-learning-from-scratch/oreilly', '/Users/sa/develop/deep-learning-from-scratch/oreilly', '/Users/sa/develop/deep-learning-from-scratch/oreilly', '/Users/sa/develop/deep-learning-from-scratch/oreilly', '/Users/sa/develop/deep-learning-from-scratch/oreilly', '/Users/sa/develop/deep-learning-from-scratch/oreilly', '/Users/sa/develop/deep-learning-from-scratch/oreilly']\n"
     ]
    },
    {
     "ename": "ImportError",
     "evalue": "No module named 'dataset'",
     "output_type": "error",
     "traceback": [
      "\u001b[0;31m---------------------------------------------------------------------------\u001b[0m",
      "\u001b[0;31mImportError\u001b[0m                               Traceback (most recent call last)",
      "\u001b[0;32m<ipython-input-30-a5e67f2215dd>\u001b[0m in \u001b[0;36m<module>\u001b[0;34m()\u001b[0m\n\u001b[1;32m      2\u001b[0m \u001b[0msys\u001b[0m\u001b[0;34m.\u001b[0m\u001b[0mpath\u001b[0m\u001b[0;34m.\u001b[0m\u001b[0mappend\u001b[0m\u001b[0;34m(\u001b[0m\u001b[0mos\u001b[0m\u001b[0;34m.\u001b[0m\u001b[0mgetcwd\u001b[0m\u001b[0;34m(\u001b[0m\u001b[0;34m)\u001b[0m \u001b[0;34m+\u001b[0m \u001b[0;34m'/oreilly'\u001b[0m\u001b[0;34m)\u001b[0m\u001b[0;34m\u001b[0m\u001b[0m\n\u001b[1;32m      3\u001b[0m \u001b[0mprint\u001b[0m\u001b[0;34m(\u001b[0m\u001b[0msys\u001b[0m\u001b[0;34m.\u001b[0m\u001b[0mpath\u001b[0m\u001b[0;34m)\u001b[0m\u001b[0;34m\u001b[0m\u001b[0m\n\u001b[0;32m----> 4\u001b[0;31m \u001b[0;32mfrom\u001b[0m \u001b[0mdataset\u001b[0m\u001b[0;34m.\u001b[0m\u001b[0mmnist\u001b[0m \u001b[0;32mimport\u001b[0m \u001b[0mload_mnist\u001b[0m\u001b[0;34m\u001b[0m\u001b[0m\n\u001b[0m\u001b[1;32m      5\u001b[0m \u001b[0;34m\u001b[0m\u001b[0m\n\u001b[1;32m      6\u001b[0m \u001b[0;31m# y : ニューラルネットワーク出力\u001b[0m\u001b[0;34m\u001b[0m\u001b[0;34m\u001b[0m\u001b[0m\n",
      "\u001b[0;31mImportError\u001b[0m: No module named 'dataset'"
     ]
    }
   ],
   "source": [
    "import sys, os\n",
    "sys.path.append(os.getcwd() + '/oreilly')\n",
    "print(sys.path)\n",
    "from dataset.mnist import load_mnist\n",
    "\n",
    "# y : ニューラルネットワーク出力\n",
    "# t : 教師データ\n",
    "def cross_entropy_error(y, t):\n",
    "    if y.ndim == 1:\n",
    "        t = t.reshape(1, t.size)\n",
    "        y = y.reshape(1, t.size)\n",
    "        \n",
    "    batch_size = y.shape[0]\n",
    "    # バッチ枚数で正規化し、1枚あたりの平均の交差エントロピー誤差を計算する\n",
    "    return -np.sum(t * np.log(y + delta)) / batch_size\n",
    "\n",
    "\n",
    "(x_train, t_train), (x_test, t_test) = load_mnist(normalize=True, one_hot_label=True)\n",
    "\n",
    "train_size = x_train.shape[0]\n",
    "batch_size = 10\n",
    "batch_mask = np.random.choice(train_size, batch_size)\n",
    "x_batch = x_train[batch_mask]\n",
    "t_batch = t_train[batch_mask]\n",
    "\n",
    "print('x_batch : %s', x_batch)\n",
    "print('t_batch : %s', t_batch)\n"
   ]
  },
  {
   "cell_type": "code",
   "execution_count": null,
   "metadata": {
    "collapsed": true
   },
   "outputs": [],
   "source": []
  }
 ],
 "metadata": {
  "kernelspec": {
   "display_name": "Python 3",
   "language": "python",
   "name": "python3"
  },
  "language_info": {
   "codemirror_mode": {
    "name": "ipython",
    "version": 3
   },
   "file_extension": ".py",
   "mimetype": "text/x-python",
   "name": "python",
   "nbconvert_exporter": "python",
   "pygments_lexer": "ipython3",
   "version": "3.5.2"
  }
 },
 "nbformat": 4,
 "nbformat_minor": 2
}
