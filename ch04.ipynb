{
 "cells": [
  {
   "cell_type": "markdown",
   "metadata": {
    "deletable": true,
    "editable": true
   },
   "source": [
    "# 4章 ニューラルネットワークの学習"
   ]
  },
  {
   "cell_type": "markdown",
   "metadata": {
    "deletable": true,
    "editable": true
   },
   "source": [
    "## 損失関数\n",
    "### 二乗和誤差"
   ]
  },
  {
   "cell_type": "code",
   "execution_count": null,
   "metadata": {
    "collapsed": true,
    "deletable": true,
    "editable": true
   },
   "outputs": [],
   "source": [
    "import numpy as np\n",
    "\n",
    "# t: 教師データ\n",
    "# index 2を正解とする\n",
    "t = [0, 0, 1, 0, 0, 0, 0, 0, 0, 0]\n",
    "\n",
    "# y: ニューラルネットワークの出力\n",
    "# 例1.「2」の確率が最も高い場合(0.6)\n",
    "y = [0.1, 0.05, 0.6, 0.0, 0.05, 0.1, 0.0, 0.1, 0.0, 0.0]\n",
    "\n",
    "# 二乗和誤差\n",
    "def mean_squared_error(y, t):\n",
    "    return 0.5 * np.sum((y - t) ** 2)\n",
    "\n",
    "# np.arrayはsumに渡すために変換をしている\n",
    "mean_squared_error(np.array(y), np.array(t))\n",
    "# => 0.0975000...31\n",
    "\n",
    "# 例2.「7」の確率が最も高い場合(0.6)\n",
    "y = [0.1, 0.05, 0.1, 0.0, 0.05, 0.1, 0.0, 0.6, 0.0, 0.0]\n",
    "mean_squared_error(np.array(y), np.array(t))\n",
    "# => 0.59750...3\n",
    "\n",
    "# 2つの結果でわかることは、教師データとの誤差を表している\n",
    "# 例1の結果のほうが値が小さいので誤差が小さいことがわかる。\n"
   ]
  },
  {
   "cell_type": "markdown",
   "metadata": {
    "deletable": true,
    "editable": true
   },
   "source": [
    "### 交差エントロピー誤差"
   ]
  },
  {
   "cell_type": "code",
   "execution_count": null,
   "metadata": {
    "collapsed": true,
    "deletable": true,
    "editable": true
   },
   "outputs": [],
   "source": [
    "def cross_entropy_error(y, t):\n",
    "    delta = 1e-7\n",
    "    return -np.sum(t * np.log(y + delta))\n",
    "\n",
    "t = [0, 0, 1, 0, 0, 0, 0, 0, 0, 0]\n",
    "y = [0.1, 0.05, 0.6, 0.0, 0.05, 0.1, 0.0, 0.1, 0.0, 0.0]\n",
    "a = cross_entropy_error(np.array(y), np.array(t))\n",
    "print(a)\n",
    "# => 0.510825457099\n",
    "\n",
    "y = [0.1, 0.05, 0.1, 0.0, 0.05, 0.1, 0.0, 0.6, 0.0, 0.0]\n",
    "b = cross_entropy_error(np.array(y), np.array(t))\n",
    "print(b)\n",
    "# => 2.30258409299\n",
    "\n",
    "\n",
    "# こちらも1番目の結果の方が値が小さいので誤差が小さいと判断する"
   ]
  },
  {
   "cell_type": "code",
   "execution_count": null,
   "metadata": {
    "collapsed": true,
    "deletable": true,
    "editable": true
   },
   "outputs": [],
   "source": [
    "np.random.choice(60000, 10)"
   ]
  },
  {
   "cell_type": "code",
   "execution_count": null,
   "metadata": {
    "collapsed": true,
    "deletable": true,
    "editable": true
   },
   "outputs": [],
   "source": [
    "import numpy as np\n",
    "import sys, os\n",
    "sys.path.append(os.getcwd() + '/oreilly')\n",
    "from dataset.mnist import load_mnist\n",
    "\n",
    "# y : ニューラルネットワーク出力\n",
    "# t : 教師データ\n",
    "def cross_entropy_error(y, t):\n",
    "    if y.ndim == 1:\n",
    "        t = t.reshape(1, t.size)\n",
    "        y = y.reshape(1, t.size)\n",
    "        \n",
    "    batch_size = y.shape[0]\n",
    "    # バッチ枚数で正規化し、1枚あたりの平均の交差エントロピー誤差を計算する\n",
    "    return -np.sum(t * np.log(y + delta)) / batch_size\n",
    "\n",
    "# load_mnist内の関数（_change_one_hot_label）の定義側にtypoがあった\n",
    "(x_train, t_train), (x_test, t_test) = load_mnist(normalize=True, one_hot_label=True)\n",
    "\n",
    "train_size = x_train.shape[0]\n",
    "batch_size = 10\n",
    "batch_mask = np.random.choice(train_size, batch_size)\n",
    "print('batch_mask : %s', batch_mask)\n",
    "x_batch = x_train[batch_mask]\n",
    "t_batch = t_train[batch_mask]\n",
    "\n",
    "print('x_batch : %s', x_batch)\n",
    "print('t_batch : %s', t_batch)\n"
   ]
  },
  {
   "cell_type": "markdown",
   "metadata": {
    "deletable": true,
    "editable": true
   },
   "source": [
    "# 数値微分の例\n"
   ]
  },
  {
   "cell_type": "code",
   "execution_count": null,
   "metadata": {
    "collapsed": true,
    "deletable": true,
    "editable": true
   },
   "outputs": [],
   "source": [
    "# y = 0.01x^2 + 0.1x\n",
    "\n",
    "# ↑を関数にしたもの\n",
    "def f_1(x):\n",
    "    return (0.01 * x ** 2) + (0.1 * x)"
   ]
  },
  {
   "cell_type": "code",
   "execution_count": null,
   "metadata": {
    "collapsed": false,
    "deletable": true,
    "editable": true
   },
   "outputs": [],
   "source": [
    "import numpy as np\n",
    "import matplotlib.pylab as plt\n",
    "\n",
    "x = np.arange(0.0, 20.0, 0.1)\n",
    "y = f_1(x)\n",
    "\n",
    "plt.title(\"f(x) = 0.01x^2 + 0.1x \")\n",
    "plt.xlabel(\"x\")\n",
    "plt.ylabel(\"f(x)\")\n",
    "plt.plot(x, y)\n",
    "plt.show()"
   ]
  },
  {
   "cell_type": "code",
   "execution_count": null,
   "metadata": {
    "collapsed": true,
    "deletable": true,
    "editable": true
   },
   "outputs": [],
   "source": [
    "# f_1関数の微分をx=5, x=10の時にそれぞれで計算する\n",
    "\n",
    "# 数値微分 中心差分\n",
    "def numerical_diff(f, x):\n",
    "    h = 1e-4 # 0.0001\n",
    "    print(\"numerical_diff x : \", x)\n",
    "    return (f(x + h) - f(x - h)) / (2 * h)"
   ]
  },
  {
   "cell_type": "code",
   "execution_count": null,
   "metadata": {
    "collapsed": false,
    "deletable": true,
    "editable": true
   },
   "outputs": [],
   "source": [
    "numerical_diff(f_1, 5)"
   ]
  },
  {
   "cell_type": "code",
   "execution_count": null,
   "metadata": {
    "collapsed": false,
    "deletable": true,
    "editable": true
   },
   "outputs": [],
   "source": [
    "numerical_diff(f_1, 10)"
   ]
  },
  {
   "cell_type": "markdown",
   "metadata": {
    "deletable": true,
    "editable": true
   },
   "source": [
    "# 偏微分"
   ]
  },
  {
   "cell_type": "markdown",
   "metadata": {
    "deletable": true,
    "editable": true
   },
   "source": [
    "$$ f(x_0, x_1) = x^2_0 + x^2_1 $$"
   ]
  },
  {
   "cell_type": "code",
   "execution_count": null,
   "metadata": {
    "collapsed": true,
    "deletable": true,
    "editable": true
   },
   "outputs": [],
   "source": [
    "# ↑を実装するこうなる\n",
    "def f_2(x):\n",
    "    return x[0] ** 2 + x[1] ** 2"
   ]
  },
  {
   "cell_type": "code",
   "execution_count": null,
   "metadata": {
    "collapsed": true,
    "deletable": true,
    "editable": true
   },
   "outputs": [],
   "source": [
    "# x0 = 3, x1 = 4のときのx0に対する偏微分を求める\n",
    "def function_tmp1(x0):\n",
    "    tmp = x0*x0 + 4.0 ** 2.0\n",
    "    print(\"tmp1 : %s\", tmp)\n",
    "    return tmp"
   ]
  },
  {
   "cell_type": "code",
   "execution_count": null,
   "metadata": {
    "collapsed": false,
    "deletable": true,
    "editable": true
   },
   "outputs": [],
   "source": [
    "numerical_diff(function_tmp1, 3.0)"
   ]
  },
  {
   "cell_type": "markdown",
   "metadata": {
    "deletable": true,
    "editable": true
   },
   "source": [
    "# 勾配"
   ]
  },
  {
   "cell_type": "code",
   "execution_count": null,
   "metadata": {
    "collapsed": false,
    "deletable": true,
    "editable": true
   },
   "outputs": [],
   "source": [
    "import numpy as np\n",
    "\n",
    "def numerical_gradient(f, x):\n",
    "    h = 1e-4\n",
    "    grad = np.zeros_like(x)\n",
    "#     print(\"x : %s\", x)\n",
    "#     print(\"grad : %s\", grad)\n",
    "    \n",
    "    for idx in range(x.size):\n",
    "        tmp_val = x[idx]\n",
    "        x[idx] = tmp_val + h\n",
    "        fxh1 = f(x) # 今回は f(x, y) = x^2 + y^2\n",
    "        \n",
    "        x[idx] = tmp_val - h\n",
    "        fxh2 = f(x)\n",
    "        \n",
    "        grad[idx] = (fxh1 - fxh2) / (2*h)\n",
    "        x[idx] = tmp_val # 値をもとに戻す\n",
    "        \n",
    "    return grad"
   ]
  },
  {
   "cell_type": "code",
   "execution_count": null,
   "metadata": {
    "collapsed": false,
    "deletable": true,
    "editable": true
   },
   "outputs": [],
   "source": [
    "# => [6 8] xとyの偏微分の結果のベクトルがかえる\n",
    "numerical_gradient(f_2, np.array([3.0, 4.0]))"
   ]
  },
  {
   "cell_type": "code",
   "execution_count": null,
   "metadata": {
    "collapsed": false,
    "deletable": true,
    "editable": true
   },
   "outputs": [],
   "source": [
    "numerical_gradient(f_2, np.array([0.0, 2.0]))"
   ]
  },
  {
   "cell_type": "code",
   "execution_count": null,
   "metadata": {
    "collapsed": false,
    "deletable": true,
    "editable": true
   },
   "outputs": [],
   "source": [
    "numerical_gradient(f_2, np.array([3.0, 0.0]))"
   ]
  },
  {
   "cell_type": "markdown",
   "metadata": {
    "deletable": true,
    "editable": true
   },
   "source": [
    "# 勾配法"
   ]
  },
  {
   "cell_type": "code",
   "execution_count": 37,
   "metadata": {
    "collapsed": true,
    "deletable": true,
    "editable": true
   },
   "outputs": [],
   "source": [
    "# f : 最適化したい関数\n",
    "# init_x : 初期値\n",
    "# lr(learning rate) : 学習率\n",
    "# step_num : 勾配法による繰り返しの数\n",
    "def gradient_descent(f, init_x, lr=0.01, step_num=100):\n",
    "    x = init_x\n",
    "    \n",
    "    for i in range(step_num):\n",
    "        grad = numerical_gradient(f, x)\n",
    "        # numerical_gradientで求めた勾配に学習率をかけた値で更新する処理をstep_num回数繰り返す\n",
    "        x -= lr * grad\n",
    "            \n",
    "    return x"
   ]
  },
  {
   "cell_type": "code",
   "execution_count": 34,
   "metadata": {
    "collapsed": false,
    "deletable": true,
    "editable": true
   },
   "outputs": [
    {
     "data": {
      "text/plain": [
       "array([ -6.11110793e-10,   8.14814391e-10])"
      ]
     },
     "execution_count": 34,
     "metadata": {},
     "output_type": "execute_result"
    }
   ],
   "source": [
    "# f(x0, x1) = x0^2 + x1^2 の最小値を勾配法で求める\n",
    "init_x = np.array([-3.0, 4.0])\n",
    "gradient_descent(f_2, init_x, lr=0.1, step_num=100)"
   ]
  },
  {
   "cell_type": "code",
   "execution_count": 35,
   "metadata": {
    "collapsed": false,
    "deletable": true,
    "editable": true
   },
   "outputs": [
    {
     "data": {
      "text/plain": [
       "array([  2.34235971e+12,  -3.96091057e+12])"
      ]
     },
     "execution_count": 35,
     "metadata": {},
     "output_type": "execute_result"
    }
   ],
   "source": [
    "# 学習率が大きすぎる例：lr=10.0\n",
    "gradient_descent(f_2, init_x, lr=10.0, step_num=100)"
   ]
  },
  {
   "cell_type": "code",
   "execution_count": 36,
   "metadata": {
    "collapsed": false,
    "deletable": true,
    "editable": true
   },
   "outputs": [
    {
     "data": {
      "text/plain": [
       "array([  2.34235971e+12,  -3.96091057e+12])"
      ]
     },
     "execution_count": 36,
     "metadata": {},
     "output_type": "execute_result"
    }
   ],
   "source": [
    "# 学習率が小さすぎる例 lr=1e-10\n",
    "gradient_descent(f_2, init_x, lr=1e-10, step_num=100)"
   ]
  },
  {
   "cell_type": "code",
   "execution_count": 46,
   "metadata": {
    "collapsed": true
   },
   "outputs": [],
   "source": [
    "# 値の更新の履歴？の配列を返す。サンプルをコピペしただけ\n",
    "def gradient_descent2(f, init_x, lr=0.01, step_num=100):\n",
    "    x = init_x\n",
    "    x_history = []\n",
    "    \n",
    "    for i in range(step_num):\n",
    "        x_history.append(x.copy()) # copy -> 値渡し        \n",
    "        grad = numerical_gradient(f, x)\n",
    "        x -= lr * grad\n",
    "            \n",
    "    return x, np.array(x_history)"
   ]
  },
  {
   "cell_type": "code",
   "execution_count": 61,
   "metadata": {
    "collapsed": false
   },
   "outputs": [
    {
     "name": "stdout",
     "output_type": "stream",
     "text": [
      "[ -6.11110793e-10   8.14814391e-10] [[ -3.00000000e+00   4.00000000e+00]\n",
      " [ -2.40000000e+00   3.20000000e+00]\n",
      " [ -1.92000000e+00   2.56000000e+00]\n",
      " [ -1.53600000e+00   2.04800000e+00]\n",
      " [ -1.22880000e+00   1.63840000e+00]\n",
      " [ -9.83040000e-01   1.31072000e+00]\n",
      " [ -7.86432000e-01   1.04857600e+00]\n",
      " [ -6.29145600e-01   8.38860800e-01]\n",
      " [ -5.03316480e-01   6.71088640e-01]\n",
      " [ -4.02653184e-01   5.36870912e-01]\n",
      " [ -3.22122547e-01   4.29496730e-01]\n",
      " [ -2.57698038e-01   3.43597384e-01]\n",
      " [ -2.06158430e-01   2.74877907e-01]\n",
      " [ -1.64926744e-01   2.19902326e-01]\n",
      " [ -1.31941395e-01   1.75921860e-01]\n",
      " [ -1.05553116e-01   1.40737488e-01]\n",
      " [ -8.44424930e-02   1.12589991e-01]\n",
      " [ -6.75539944e-02   9.00719925e-02]\n",
      " [ -5.40431955e-02   7.20575940e-02]\n",
      " [ -4.32345564e-02   5.76460752e-02]\n",
      " [ -3.45876451e-02   4.61168602e-02]\n",
      " [ -2.76701161e-02   3.68934881e-02]\n",
      " [ -2.21360929e-02   2.95147905e-02]\n",
      " [ -1.77088743e-02   2.36118324e-02]\n",
      " [ -1.41670994e-02   1.88894659e-02]\n",
      " [ -1.13336796e-02   1.51115727e-02]\n",
      " [ -9.06694365e-03   1.20892582e-02]\n",
      " [ -7.25355492e-03   9.67140656e-03]\n",
      " [ -5.80284393e-03   7.73712525e-03]\n",
      " [ -4.64227515e-03   6.18970020e-03]\n",
      " [ -3.71382012e-03   4.95176016e-03]\n",
      " [ -2.97105609e-03   3.96140813e-03]\n",
      " [ -2.37684488e-03   3.16912650e-03]\n",
      " [ -1.90147590e-03   2.53530120e-03]\n",
      " [ -1.52118072e-03   2.02824096e-03]\n",
      " [ -1.21694458e-03   1.62259277e-03]\n",
      " [ -9.73555661e-04   1.29807421e-03]\n",
      " [ -7.78844529e-04   1.03845937e-03]\n",
      " [ -6.23075623e-04   8.30767497e-04]\n",
      " [ -4.98460498e-04   6.64613998e-04]\n",
      " [ -3.98768399e-04   5.31691198e-04]\n",
      " [ -3.19014719e-04   4.25352959e-04]\n",
      " [ -2.55211775e-04   3.40282367e-04]\n",
      " [ -2.04169420e-04   2.72225894e-04]\n",
      " [ -1.63335536e-04   2.17780715e-04]\n",
      " [ -1.30668429e-04   1.74224572e-04]\n",
      " [ -1.04534743e-04   1.39379657e-04]\n",
      " [ -8.36277945e-05   1.11503726e-04]\n",
      " [ -6.69022356e-05   8.92029808e-05]\n",
      " [ -5.35217885e-05   7.13623846e-05]\n",
      " [ -4.28174308e-05   5.70899077e-05]\n",
      " [ -3.42539446e-05   4.56719262e-05]\n",
      " [ -2.74031557e-05   3.65375409e-05]\n",
      " [ -2.19225246e-05   2.92300327e-05]\n",
      " [ -1.75380196e-05   2.33840262e-05]\n",
      " [ -1.40304157e-05   1.87072210e-05]\n",
      " [ -1.12243326e-05   1.49657768e-05]\n",
      " [ -8.97946606e-06   1.19726214e-05]\n",
      " [ -7.18357285e-06   9.57809713e-06]\n",
      " [ -5.74685828e-06   7.66247770e-06]\n",
      " [ -4.59748662e-06   6.12998216e-06]\n",
      " [ -3.67798930e-06   4.90398573e-06]\n",
      " [ -2.94239144e-06   3.92318858e-06]\n",
      " [ -2.35391315e-06   3.13855087e-06]\n",
      " [ -1.88313052e-06   2.51084069e-06]\n",
      " [ -1.50650442e-06   2.00867256e-06]\n",
      " [ -1.20520353e-06   1.60693804e-06]\n",
      " [ -9.64162827e-07   1.28555044e-06]\n",
      " [ -7.71330261e-07   1.02844035e-06]\n",
      " [ -6.17064209e-07   8.22752279e-07]\n",
      " [ -4.93651367e-07   6.58201823e-07]\n",
      " [ -3.94921094e-07   5.26561458e-07]\n",
      " [ -3.15936875e-07   4.21249167e-07]\n",
      " [ -2.52749500e-07   3.36999333e-07]\n",
      " [ -2.02199600e-07   2.69599467e-07]\n",
      " [ -1.61759680e-07   2.15679573e-07]\n",
      " [ -1.29407744e-07   1.72543659e-07]\n",
      " [ -1.03526195e-07   1.38034927e-07]\n",
      " [ -8.28209562e-08   1.10427942e-07]\n",
      " [ -6.62567649e-08   8.83423532e-08]\n",
      " [ -5.30054119e-08   7.06738826e-08]\n",
      " [ -4.24043296e-08   5.65391061e-08]\n",
      " [ -3.39234636e-08   4.52312849e-08]\n",
      " [ -2.71387709e-08   3.61850279e-08]\n",
      " [ -2.17110167e-08   2.89480223e-08]\n",
      " [ -1.73688134e-08   2.31584178e-08]\n",
      " [ -1.38950507e-08   1.85267343e-08]\n",
      " [ -1.11160406e-08   1.48213874e-08]\n",
      " [ -8.89283245e-09   1.18571099e-08]\n",
      " [ -7.11426596e-09   9.48568795e-09]\n",
      " [ -5.69141277e-09   7.58855036e-09]\n",
      " [ -4.55313022e-09   6.07084029e-09]\n",
      " [ -3.64250417e-09   4.85667223e-09]\n",
      " [ -2.91400334e-09   3.88533778e-09]\n",
      " [ -2.33120267e-09   3.10827023e-09]\n",
      " [ -1.86496214e-09   2.48661618e-09]\n",
      " [ -1.49196971e-09   1.98929295e-09]\n",
      " [ -1.19357577e-09   1.59143436e-09]\n",
      " [ -9.54860614e-10   1.27314749e-09]\n",
      " [ -7.63888491e-10   1.01851799e-09]]\n"
     ]
    },
    {
     "data": {
      "image/png": "[encoded data removed]",
      "text/plain": [
       "<matplotlib.figure.Figure at 0x1124a0ba8>"
      ]
     },
     "metadata": {},
     "output_type": "display_data"
    }
   ],
   "source": [
    "import numpy as np\n",
    "import matplotlib.pylab as plt\n",
    "\n",
    "lr = 0.1\n",
    "step_num = 100\n",
    "init_x = np.array([-3.0, 4.0])\n",
    "x, x_history = gradient_descent2(f_2, init_x, lr=lr, step_num=step_num)\n",
    "\n",
    "print(x, x_history)\n",
    "\n",
    "plt.plot( [-5, 5], [0,0], '--b')\n",
    "plt.plot( [0,0], [-5, 5], '--b')\n",
    "\n",
    "#  x_history[:,0] => 多次元配列。: (スライシング)は行全体で、0は行列の1列目すべて取得する。x軸。\n",
    "plt.plot(x_history[:,0], x_history[:,1], 'o')\n",
    "\n",
    "plt.xlim(-3.5, 3.5)\n",
    "plt.ylim(-4.5, 4.5)\n",
    "plt.xlabel(\"X0\")\n",
    "plt.ylabel(\"X1\")\n",
    "plt.show()\n"
   ]
  },
  {
   "cell_type": "code",
   "execution_count": 62,
   "metadata": {
    "collapsed": false
   },
   "outputs": [
    {
     "name": "stdout",
     "output_type": "stream",
     "text": [
      "[ -2.58983747e+13  -1.29524862e+12] [[ -3.00000000e+00   4.00000000e+00]\n",
      " [  5.70000000e+01  -7.60000000e+01]\n",
      " [ -1.08300000e+03   1.44400000e+03]\n",
      " [  2.05770000e+04  -2.74360000e+04]\n",
      " [ -3.90963008e+05   5.21284002e+05]\n",
      " [  7.42829664e+06  -9.90439654e+06]\n",
      " [ -1.41137328e+08   1.88183103e+08]\n",
      " [  2.68126267e+09  -3.57501690e+09]\n",
      " [ -5.09763373e+10   6.79001831e+10]\n",
      " [  9.45170863e+11  -1.29524862e+12]\n",
      " [ -2.58983747e+13  -1.29524862e+12]\n",
      " [ -2.58983747e+13  -1.29524862e+12]\n",
      " [ -2.58983747e+13  -1.29524862e+12]\n",
      " [ -2.58983747e+13  -1.29524862e+12]\n",
      " [ -2.58983747e+13  -1.29524862e+12]\n",
      " [ -2.58983747e+13  -1.29524862e+12]\n",
      " [ -2.58983747e+13  -1.29524862e+12]\n",
      " [ -2.58983747e+13  -1.29524862e+12]\n",
      " [ -2.58983747e+13  -1.29524862e+12]\n",
      " [ -2.58983747e+13  -1.29524862e+12]\n",
      " [ -2.58983747e+13  -1.29524862e+12]\n",
      " [ -2.58983747e+13  -1.29524862e+12]\n",
      " [ -2.58983747e+13  -1.29524862e+12]\n",
      " [ -2.58983747e+13  -1.29524862e+12]\n",
      " [ -2.58983747e+13  -1.29524862e+12]\n",
      " [ -2.58983747e+13  -1.29524862e+12]\n",
      " [ -2.58983747e+13  -1.29524862e+12]\n",
      " [ -2.58983747e+13  -1.29524862e+12]\n",
      " [ -2.58983747e+13  -1.29524862e+12]\n",
      " [ -2.58983747e+13  -1.29524862e+12]\n",
      " [ -2.58983747e+13  -1.29524862e+12]\n",
      " [ -2.58983747e+13  -1.29524862e+12]\n",
      " [ -2.58983747e+13  -1.29524862e+12]\n",
      " [ -2.58983747e+13  -1.29524862e+12]\n",
      " [ -2.58983747e+13  -1.29524862e+12]\n",
      " [ -2.58983747e+13  -1.29524862e+12]\n",
      " [ -2.58983747e+13  -1.29524862e+12]\n",
      " [ -2.58983747e+13  -1.29524862e+12]\n",
      " [ -2.58983747e+13  -1.29524862e+12]\n",
      " [ -2.58983747e+13  -1.29524862e+12]\n",
      " [ -2.58983747e+13  -1.29524862e+12]\n",
      " [ -2.58983747e+13  -1.29524862e+12]\n",
      " [ -2.58983747e+13  -1.29524862e+12]\n",
      " [ -2.58983747e+13  -1.29524862e+12]\n",
      " [ -2.58983747e+13  -1.29524862e+12]\n",
      " [ -2.58983747e+13  -1.29524862e+12]\n",
      " [ -2.58983747e+13  -1.29524862e+12]\n",
      " [ -2.58983747e+13  -1.29524862e+12]\n",
      " [ -2.58983747e+13  -1.29524862e+12]\n",
      " [ -2.58983747e+13  -1.29524862e+12]\n",
      " [ -2.58983747e+13  -1.29524862e+12]\n",
      " [ -2.58983747e+13  -1.29524862e+12]\n",
      " [ -2.58983747e+13  -1.29524862e+12]\n",
      " [ -2.58983747e+13  -1.29524862e+12]\n",
      " [ -2.58983747e+13  -1.29524862e+12]\n",
      " [ -2.58983747e+13  -1.29524862e+12]\n",
      " [ -2.58983747e+13  -1.29524862e+12]\n",
      " [ -2.58983747e+13  -1.29524862e+12]\n",
      " [ -2.58983747e+13  -1.29524862e+12]\n",
      " [ -2.58983747e+13  -1.29524862e+12]\n",
      " [ -2.58983747e+13  -1.29524862e+12]\n",
      " [ -2.58983747e+13  -1.29524862e+12]\n",
      " [ -2.58983747e+13  -1.29524862e+12]\n",
      " [ -2.58983747e+13  -1.29524862e+12]\n",
      " [ -2.58983747e+13  -1.29524862e+12]\n",
      " [ -2.58983747e+13  -1.29524862e+12]\n",
      " [ -2.58983747e+13  -1.29524862e+12]\n",
      " [ -2.58983747e+13  -1.29524862e+12]\n",
      " [ -2.58983747e+13  -1.29524862e+12]\n",
      " [ -2.58983747e+13  -1.29524862e+12]\n",
      " [ -2.58983747e+13  -1.29524862e+12]\n",
      " [ -2.58983747e+13  -1.29524862e+12]\n",
      " [ -2.58983747e+13  -1.29524862e+12]\n",
      " [ -2.58983747e+13  -1.29524862e+12]\n",
      " [ -2.58983747e+13  -1.29524862e+12]\n",
      " [ -2.58983747e+13  -1.29524862e+12]\n",
      " [ -2.58983747e+13  -1.29524862e+12]\n",
      " [ -2.58983747e+13  -1.29524862e+12]\n",
      " [ -2.58983747e+13  -1.29524862e+12]\n",
      " [ -2.58983747e+13  -1.29524862e+12]\n",
      " [ -2.58983747e+13  -1.29524862e+12]\n",
      " [ -2.58983747e+13  -1.29524862e+12]\n",
      " [ -2.58983747e+13  -1.29524862e+12]\n",
      " [ -2.58983747e+13  -1.29524862e+12]\n",
      " [ -2.58983747e+13  -1.29524862e+12]\n",
      " [ -2.58983747e+13  -1.29524862e+12]\n",
      " [ -2.58983747e+13  -1.29524862e+12]\n",
      " [ -2.58983747e+13  -1.29524862e+12]\n",
      " [ -2.58983747e+13  -1.29524862e+12]\n",
      " [ -2.58983747e+13  -1.29524862e+12]\n",
      " [ -2.58983747e+13  -1.29524862e+12]\n",
      " [ -2.58983747e+13  -1.29524862e+12]\n",
      " [ -2.58983747e+13  -1.29524862e+12]\n",
      " [ -2.58983747e+13  -1.29524862e+12]\n",
      " [ -2.58983747e+13  -1.29524862e+12]\n",
      " [ -2.58983747e+13  -1.29524862e+12]\n",
      " [ -2.58983747e+13  -1.29524862e+12]\n",
      " [ -2.58983747e+13  -1.29524862e+12]\n",
      " [ -2.58983747e+13  -1.29524862e+12]\n",
      " [ -2.58983747e+13  -1.29524862e+12]]\n"
     ]
    },
    {
     "data": {
      "image/png": "[encoded data removed]",
      "text/plain": [
       "<matplotlib.figure.Figure at 0x111bbae10>"
      ]
     },
     "metadata": {},
     "output_type": "display_data"
    }
   ],
   "source": [
    "# 学習率が大きすぎる例：lr=10.0\n",
    "lr = 10.0\n",
    "step_num = 100\n",
    "\n",
    "init_x = np.array([-3.0, 4.0])\n",
    "x, x_history = gradient_descent2(f_2, init_x, lr=lr, step_num=step_num)\n",
    "\n",
    "print(x, x_history)\n",
    "\n",
    "plt.plot( [-5, 5], [0,0], '--b')\n",
    "plt.plot( [0,0], [-5, 5], '--b')\n",
    "\n",
    "plt.plot(x_history[:,0], x_history[:,1], 'o')\n",
    "\n",
    "plt.xlim(-3.5, 3.5)\n",
    "plt.ylim(-4.5, 4.5)\n",
    "plt.xlabel(\"X0\")\n",
    "plt.ylabel(\"X1\")\n",
    "plt.show()\n"
   ]
  },
  {
   "cell_type": "code",
   "execution_count": 60,
   "metadata": {
    "collapsed": false,
    "deletable": true,
    "editable": true
   },
   "outputs": [
    {
     "name": "stdout",
     "output_type": "stream",
     "text": [
      "[-2.99999994  3.99999992]\n"
     ]
    },
    {
     "data": {
      "image/png": "[encoded data removed]",
      "text/plain": [
       "<matplotlib.figure.Figure at 0x111a6e048>"
      ]
     },
     "metadata": {},
     "output_type": "display_data"
    }
   ],
   "source": [
    "# 学習率が小さすぎる例 lr=1e-10\n",
    "lr = 1e-10\n",
    "step_num = 100\n",
    "\n",
    "init_x = np.array([-3.0, 4.0])\n",
    "x, x_history = gradient_descent2(f_2, init_x, lr=lr, step_num=step_num)\n",
    "\n",
    "print(x, x_history)\n",
    "\n",
    "plt.plot( [-5, 5], [0,0], '--b')\n",
    "plt.plot( [0,0], [-5, 5], '--b')\n",
    "\n",
    "plt.plot(x_history[:,0], x_history[:,1], 'o')\n",
    "\n",
    "plt.xlim(-3.5, 3.5)\n",
    "plt.ylim(-4.5, 4.5)\n",
    "plt.xlabel(\"X0\")\n",
    "plt.ylabel(\"X1\")\n",
    "plt.show()\n"
   ]
  },
  {
   "cell_type": "code",
   "execution_count": null,
   "metadata": {
    "collapsed": false,
    "deletable": true,
    "editable": true
   },
   "outputs": [],
   "source": [
    "# 偏微分のグラフ\n",
    "def function_e0(x0):\n",
    "    return x0*x0 + 1.0**2.0\n",
    "\n",
    "x0s = np.arange(-3, 3, 0.5)\n",
    "X = numerical_diff(function_e0, x0s)"
   ]
  },
  {
   "cell_type": "code",
   "execution_count": null,
   "metadata": {
    "collapsed": false,
    "deletable": true,
    "editable": true
   },
   "outputs": [],
   "source": [
    "def function_e1(x1):\n",
    "    return (1.0**2.0) + (x1 * x1)\n",
    "\n",
    "x1s = np.arange(-3, 3, 0.5)\n",
    "Y = numerical_diff(function_e1, x1s)"
   ]
  },
  {
   "cell_type": "code",
   "execution_count": null,
   "metadata": {
    "collapsed": false,
    "deletable": true,
    "editable": true
   },
   "outputs": [],
   "source": [
    "# f(x0, x1) = x0^2 + x1^2 のグラフ\n",
    "\n",
    "from mpl_toolkits.mplot3d import axes3d\n",
    "import matplotlib.pyplot as plt\n",
    "import numpy as np\n",
    "\n",
    "def f(x0, x1):\n",
    "    return x[0]**2 + x[1]**2 \n",
    "\n",
    "x0 = np.arange(-3, 3, 0.5)\n",
    "x1 = np.arange(-3, 3, 0.5)\n",
    "x0, x1 = np.meshgrid(x0, x1)\n",
    "z = f(x0, x1)\n",
    "\n",
    "print(z)\n",
    "\n",
    "fig = plt.figure()\n",
    "ax = fig.add_subplot(111, projection='3d')\n",
    "ax.plot_wireframe(x0,x1,z)\n",
    "\n",
    "plt.show()"
   ]
  },
  {
   "cell_type": "code",
   "execution_count": 32,
   "metadata": {
    "collapsed": false,
    "deletable": true,
    "editable": true
   },
   "outputs": [
    {
     "data": {
      "image/png": "[encoded data removed]",
      "text/plain": [
       "<matplotlib.figure.Figure at 0x10eece9b0>"
      ]
     },
     "metadata": {},
     "output_type": "display_data"
    }
   ],
   "source": [
    "import numpy as np\n",
    "import matplotlib.pyplot as plt\n",
    "from mpl_toolkits.mplot3d import Axes3D\n",
    "\n",
    "def func(x0, x1):\n",
    "    return x0**2 + x1**2\n",
    "\n",
    "x0 = np.arange(-3, 3, 0.5)\n",
    "x1 = np.arange(-3, 3, 0.5)\n",
    "X0, X1 = np.meshgrid(x0, x1)\n",
    "Y = func(X0, X1)\n",
    "\n",
    "fig = plt.figure()\n",
    "ax = Axes3D(fig)\n",
    "ax.plot_wireframe(X0,X1,Y)\n",
    "plt.show()"
   ]
  },
  {
   "cell_type": "code",
   "execution_count": null,
   "metadata": {
    "collapsed": true,
    "deletable": true,
    "editable": true
   },
   "outputs": [],
   "source": []
  }
 ],
 "metadata": {
  "kernelspec": {
   "display_name": "Python 3",
   "language": "python",
   "name": "python3"
  },
  "language_info": {
   "codemirror_mode": {
    "name": "ipython",
    "version": 3
   },
   "file_extension": ".py",
   "mimetype": "text/x-python",
   "name": "python",
   "nbconvert_exporter": "python",
   "pygments_lexer": "ipython3",
   "version": "3.5.2"
  }
 },
 "nbformat": 4,
 "nbformat_minor": 2
}
